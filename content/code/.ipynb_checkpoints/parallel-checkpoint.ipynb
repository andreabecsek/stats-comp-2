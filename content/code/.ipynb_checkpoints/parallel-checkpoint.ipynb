{
 "cells": [
  {
   "cell_type": "code",
   "execution_count": 19,
   "metadata": {},
   "outputs": [
    {
     "name": "stdout",
     "output_type": "stream",
     "text": [
      "Worker 8770 decided whether 1 is prime\n",
      "Worker 8772 decided whether 3 is prime\n",
      "Worker 8771 decided whether 2 is prime\n",
      "Worker 8774 decided whether 5 is prime\n",
      "Worker 8773 decided whether 4 is prime\n",
      "Worker 8772 decided whether 6 is prime\n",
      "Worker 8770 decided whether 7 is prime\n",
      "Worker 8774 decided whether 9 is prime\n",
      "Worker 8771 decided whether 8 is prime\n",
      "Worker 8773 decided whether 10 is prime\n",
      "Worker 8772 decided whether 11 is prime\n",
      "Worker 8771 decided whether 12 is prime\n",
      "Worker 8774 decided whether 13 is prime\n",
      "Worker 8773 decided whether 15 is prime\n",
      "Worker 8770 decided whether 14 is prime\n",
      "Worker 8771 decided whether 17 is prime\n",
      "Worker 8772 decided whether 16 is prime\n",
      "Worker 8774 decided whether 18 is prime\n",
      "Worker 8772 decided whether 19 is prime\n",
      "Worker 8770 decided whether 20 is prime\n",
      "The number of total primes between 1 and 20 is: 10\n"
     ]
    }
   ],
   "source": [
    "from multiprocessing import cpu_count, Pool, current_process\n",
    "from functools import reduce\n",
    "\n",
    "def is_prime(x):\n",
    "    \"\"\"Function to compute wether a number is prime or not\"\"\"\n",
    "    isprime = 1;\n",
    "    \n",
    "    for i in range(2, x//2):\n",
    "        if x%i==0: \n",
    "            isprime = 0\n",
    "            break\n",
    "    print(f\"Worker {current_process().pid} decided whether {x} is prime\")\n",
    "    return isprime\n",
    "    \n",
    "    \n",
    "if __name__ == \"__main__\":\n",
    "    # create a pool of workers\n",
    "    with Pool(processes=5) as pool:\n",
    "        nums = range(1,21)\n",
    "        are_primes = pool.map(is_prime, nums)\n",
    "        \n",
    "    total_primes = reduce(lambda x, y: x+y, are_primes)\n",
    "    print(f\"The number of total primes between 1 and 20 is: {total_primes}\")"
   ]
  },
  {
   "cell_type": "code",
   "execution_count": 28,
   "metadata": {},
   "outputs": [
    {
     "name": "stdout",
     "output_type": "stream",
     "text": [
      "Worker 12002 decided the number of primes between 2 and 3\n",
      "Worker 12004 decided the number of primes between 30 and 60\n",
      "Worker 12003 decided the number of primes between 10 and 20\n",
      "[1, 4, 7]\n"
     ]
    }
   ],
   "source": [
    "from multiprocessing import cpu_count, Pool, current_process\n",
    "from functools import reduce\n",
    "\n",
    "def is_prime(x):\n",
    "    \"\"\"Function to compute wether a number is prime or not\"\"\"\n",
    "    isprime = 1;\n",
    "    \n",
    "    for i in range(2, x//2):\n",
    "        if x%i==0: \n",
    "            isprime = 0\n",
    "            break\n",
    "    return isprime\n",
    "\n",
    "def count_primes(start, end):\n",
    "    \"\"\"Function that returns the number of primes between two integers.\"\"\"\n",
    "    count = 0\n",
    "    \n",
    "    for i in range(start, end):\n",
    "        if is_prime(i) == 1:\n",
    "            count = count + 1\n",
    "    print(f\"Worker {current_process().pid} decided the number of primes between {start} and {end}\")        \n",
    "    return count\n",
    "\n",
    "starting_values = [2,10,30]\n",
    "end_values = [3, 20, 60]\n",
    "    \n",
    "    \n",
    "if __name__ == \"__main__\":\n",
    "    # create a pool of workers\n",
    "    with Pool(processes=5) as pool:\n",
    "        prime_counts = pool.starmap(count_primes, zip(starting_values, end_values))\n",
    "\n",
    "    print(prime_counts)"
   ]
  },
  {
   "cell_type": "code",
   "execution_count": 48,
   "metadata": {},
   "outputs": [
    {
     "name": "stdout",
     "output_type": "stream",
     "text": [
      "Master process is PID 5989\n",
      "Worker 12464 started computing the number of primes between 2 and 3\n",
      "Worker 12465 started computing the number of primes between 2 and 10\n",
      "Worker 12464 decided the number of primes between 2 and 3. It is 1.\n",
      "Worker 12465 decided the number of primes between 2 and 10. It is 5.\n",
      "1\n",
      "5\n"
     ]
    }
   ],
   "source": [
    "from multiprocessing import cpu_count, Pool, current_process\n",
    "from functools import reduce\n",
    "\n",
    "def is_prime(x):\n",
    "    \"\"\"Function to compute wether a number is prime or not\"\"\"\n",
    "    isprime = 1;\n",
    "    \n",
    "    for i in range(2, x//2):\n",
    "        if x%i==0: \n",
    "            isprime = 0\n",
    "            break\n",
    "    return isprime\n",
    "\n",
    "def count_primes(start, end):\n",
    "    \"\"\"Function that returns the number of primes between two integers.\"\"\"\n",
    "    count = 0\n",
    "    \n",
    "    for i in range(start, end):\n",
    "        if is_prime(i) == 1:\n",
    "            count = count + 1\n",
    "    print(f\"Worker {current_process().pid} decided the number of primes between {start} and {end}\")        \n",
    "    return count\n",
    "\n",
    "starting_values = [2,10,30]\n",
    "end_values = [3, 20, 60]\n",
    "    \n",
    "    \n",
    "if __name__ == \"__main__\":\n",
    "    # create a pool of workers\n",
    "    with Pool(processes=5) as pool:\n",
    "        prime_counts = pool.starmap(count_primes, zip(starting_values, end_values))\n",
    "\n",
    "    print(prime_counts)"
   ]
  },
  {
   "cell_type": "code",
   "execution_count": 54,
   "metadata": {},
   "outputs": [
    {
     "name": "stdout",
     "output_type": "stream",
     "text": [
      "Master process is PID 5989\n",
      "Worker 12583 started computing the number of primes between 2 and 10\n",
      "Worker 12582 started computing the number of primes between 2 and 3\n",
      "Worker 12583 decided the number of primes between 2 and 10. It is 5.\n",
      "Worker 12582 decided the number of primes between 2 and 3. It is 1.\n",
      "The results are 1 and 5.\n"
     ]
    }
   ],
   "source": [
    "from multiprocessing import cpu_count, Pool, current_process\n",
    "import time\n",
    "\n",
    "def is_prime(x):\n",
    "    \"\"\"Function to compute wether a number is prime or not\"\"\"\n",
    "    isprime = 1;\n",
    "    \n",
    "    for i in range(2, x//2):\n",
    "        if x%i==0: \n",
    "            isprime = 0\n",
    "            break\n",
    "    return isprime\n",
    "\n",
    "def count_primes(start, end):\n",
    "    \"\"\"Function that returns the number of primes between two integers.\"\"\"\n",
    "    print(f\"Worker {current_process().pid} started computing the number of primes between {start} and {end}\")  \n",
    "    \n",
    "    count = 0\n",
    "    for i in range(start, end):\n",
    "        if is_prime(i) == 1:\n",
    "            count = count + 1\n",
    "            \n",
    "    print(f\"Worker {current_process().pid} decided the number of primes between {start} and {end}. It is {count}.\")      \n",
    "    return count\n",
    "\n",
    "    \n",
    "if __name__ == \"__main__\":\n",
    "    print(f\"Master process is PID {current_process().pid}\")\n",
    "    # create a pool of workers\n",
    "    with Pool() as pool:\n",
    "        result1=pool.apply_async(count_primes, [2,3])\n",
    "        result2=pool.apply_async(count_primes, [2,10])\n",
    "        \n",
    "        result1.wait()\n",
    "        result2.wait()\n",
    "        print(f\"The results are {result1.get()} and {result2.get()}.\")\n",
    "    "
   ]
  },
  {
   "cell_type": "code",
   "execution_count": 61,
   "metadata": {},
   "outputs": [
    {
     "name": "stdout",
     "output_type": "stream",
     "text": [
      "Worker 13647 started computing the number of primes between 1 and 49\n",
      "Worker 13650 started computing the number of primes between 150 and 200\n",
      "Worker 13648 started computing the number of primes between 50 and 99\n",
      "Worker 13649 started computing the number of primes between 100 and 149\n",
      "Worker 13648 decided the number of primes between 50 and 99. It is 10.\n",
      "Worker 13650 decided the number of primes between 150 and 200. It is 11.\n",
      "Worker 13647 decided the number of primes between 1 and 49. It is 17.\n",
      "Worker 13649 decided the number of primes between 100 and 149. It is 10.\n",
      "48\n"
     ]
    }
   ],
   "source": [
    "from multiprocessing import cpu_count, Pool, current_process\n",
    "from functools import reduce\n",
    "\n",
    "def is_prime(x):\n",
    "    \"\"\"Function to compute wether a number is prime or not\"\"\"\n",
    "    isprime = 1;\n",
    "    \n",
    "    for i in range(2, x//2):\n",
    "        if x%i==0: \n",
    "            isprime = 0\n",
    "            break\n",
    "    return isprime\n",
    "\n",
    "def count_primes(start, end):\n",
    "    \"\"\"Function that returns the number of primes between two integers.\"\"\"\n",
    "    print(f\"Worker {current_process().pid} started computing the number of primes between {start} and {end-1}\") \n",
    "    \n",
    "    count = 0\n",
    "    for i in range(start, end):\n",
    "        if is_prime(i) == 1:\n",
    "            count = count + 1\n",
    "            \n",
    "    print(f\"Worker {current_process().pid} decided the number of primes between {start} and {end-1}. It is {count}.\")        \n",
    "    return count\n",
    "\n",
    "starting_values = [1,50,100,150]\n",
    "end_values = [50, 100, 150, 201]\n",
    "    \n",
    "    \n",
    "if __name__ == \"__main__\":\n",
    "    # create a pool of workers\n",
    "    with Pool(processes=5) as pool:\n",
    "        prime_counts_future = pool.starmap_async(count_primes, zip(starting_values, end_values))\n",
    "\n",
    "        prime_counts_future.wait()\n",
    "        \n",
    "    total_prime_counts = reduce(lambda x,y: x+y, prime_counts_future.get())\n",
    "    print(total_prime_counts)"
   ]
  }
 ],
 "metadata": {
  "kernelspec": {
   "display_name": "Python 3",
   "language": "python",
   "name": "python3"
  },
  "language_info": {
   "codemirror_mode": {
    "name": "ipython",
    "version": 3
   },
   "file_extension": ".py",
   "mimetype": "text/x-python",
   "name": "python",
   "nbconvert_exporter": "python",
   "pygments_lexer": "ipython3",
   "version": "3.7.6"
  }
 },
 "nbformat": 4,
 "nbformat_minor": 4
}
